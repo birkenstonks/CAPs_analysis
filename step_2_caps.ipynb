{
 "cells": [
  {
   "cell_type": "code",
   "execution_count": 1,
   "metadata": {},
   "outputs": [],
   "source": [
    "import pickle\n",
    "import numpy as np\n",
    "from neurocaps.analysis import CAP\n",
    "\n",
    "# Extracting timseries\n",
    "parcel_approach = {\"Schaefer\": {\"n_rois\": 200, \"yeo_networks\": 7, \"resolution_mm\": 2}}\n",
    "\n",
    "# Simulate data for example\n",
    "# subject_timeseries = {str(x): {f\"run-{y}\": np.random.rand(100, 100) for y in range(1, 4)} for x in range(1, 11)}\n",
    "with open(\"/home/zachkaras/fmri/fmri_model_data/midprocess/extracted_info_loops.pkl\", 'rb') as f:\n",
    "    loop_extractor = pickle.load(f)\n",
    "with open(\"/home/zachkaras/fmri/fmri_model_data/midprocess/extracted_info_nonloops.pkl\", 'rb') as f:\n",
    "    nonloop_extractor = pickle.load(f)\n",
    "    \n",
    "loop_timeseries = loop_extractor.subject_timeseries\n",
    "nonloop_timeseries = nonloop_extractor.subject_timeseries\n",
    "\n",
    "# # Initialize CAP class\n",
    "# cap_analysis = CAP(parcel_approach=parcel_approach)\n",
    "\n",
    "# # Get CAPs\n",
    "# cap_analysis.get_caps(\n",
    "#     subject_timeseries=loop_timeseries,\n",
    "#     n_clusters=range(2, 11),\n",
    "#     cluster_selection_method=\"elbow\",\n",
    "#     show_figs=True,\n",
    "#     step=2,\n",
    "#     progress_bar=True,  # Available in versions >= 0.21.5\n",
    "# )\n",
    "# cap_analysis.get_caps(\n",
    "#     subject_timeseries=nonloop_timeseries,\n",
    "#     n_clusters=range(2, 11),\n",
    "#     cluster_selection_method=\"elbow\",\n",
    "#     show_figs=True,\n",
    "#     step=2,\n",
    "#     progress_bar=True,  # Available in versions >= 0.21.5\n",
    "# )"
   ]
  },
  {
   "cell_type": "code",
   "execution_count": 2,
   "metadata": {},
   "outputs": [],
   "source": [
    "with open('/home/zachkaras/fmri_recursion/test_analysis/concatenated_timeseries.pkl', 'rb') as f:\n",
    "    test = pickle.load(f)"
   ]
  },
  {
   "cell_type": "code",
   "execution_count": 4,
   "metadata": {},
   "outputs": [
    {
     "data": {
      "text/plain": [
       "array([[-0.07063758,  1.0532109 ,  0.2622014 , ..., -0.07734451,\n",
       "        -0.9549831 , -1.6310359 ],\n",
       "       [-0.48039535,  0.6901495 ,  0.7582462 , ..., -0.15781038,\n",
       "        -0.5171887 , -1.1587616 ],\n",
       "       [-0.5154454 ,  0.8378286 , -0.00688959, ..., -0.19449253,\n",
       "        -0.49310523, -1.439317  ],\n",
       "       ...,\n",
       "       [ 0.8330569 ,  0.40135586, -1.2131388 , ...,  1.0646806 ,\n",
       "        -0.05264093, -0.5218547 ],\n",
       "       [ 0.4500298 ,  0.31179616, -1.4086576 , ...,  1.4313741 ,\n",
       "         0.13705148, -0.82786536],\n",
       "       [-0.33243075,  0.2042791 , -0.08377496, ...,  0.9865048 ,\n",
       "         0.5122016 , -1.4121808 ]], dtype=float32)"
      ]
     },
     "execution_count": 4,
     "metadata": {},
     "output_type": "execute_result"
    }
   ],
   "source": [
    "test['All Subjects']"
   ]
  },
  {
   "cell_type": "code",
   "execution_count": 5,
   "metadata": {},
   "outputs": [
    {
     "name": "stdout",
     "output_type": "stream",
     "text": [
      "8023 200\n"
     ]
    }
   ],
   "source": [
    "print(len(test['All Subjects']), len(test['All Subjects'][199]))"
   ]
  },
  {
   "cell_type": "code",
   "execution_count": null,
   "metadata": {},
   "outputs": [],
   "source": [
    "loop_dict = cap_analysis.calculate_metrics(\n",
    "    subject_timeseries=loop_timeseries,\n",
    "    return_df=True,\n",
    "    metrics=[\"temporal_fraction\", \"counts\", \"transition_probability\"],\n",
    "    continuous_runs=True,\n",
    "    progress_bar=True,\n",
    ")\n",
    "\n",
    "nonloop_dict = cap_analysis.calculate_metrics(\n",
    "    subject_timeseries=nonloop_timeseries,\n",
    "    return_df=True,\n",
    "    metrics=[\"temporal_fraction\", \"counts\", \"transition_probability\"],\n",
    "    continuous_runs=True,\n",
    "    progress_bar=True,\n",
    ")\n",
    "\n",
    "print(loop_dict[\"temporal_fraction\"])\n",
    "print(nonloop_dict[\"temporal_fraction\"])"
   ]
  },
  {
   "cell_type": "code",
   "execution_count": null,
   "metadata": {},
   "outputs": [],
   "source": [
    "import seaborn as sns\n",
    "\n",
    "cap_analysis_loops = CAP(parcel_approach=loop_extractor.parcel_approach)\n",
    "\n",
    "cap_analysis_loops.get_caps(subject_timeseries=loop_timeseries, n_clusters=6)\n",
    "\n",
    "sns.diverging_palette(145, 300, s=60, as_cmap=True)\n",
    "\n",
    "palette = sns.diverging_palette(260, 10, s=80, l=55, n=256, as_cmap=True)\n",
    "\n",
    "kwargs = {\n",
    "    \"subplots\": True,\n",
    "    \"fontsize\": 14,\n",
    "    \"ncol\": 3,\n",
    "    \"sharey\": True,\n",
    "    \"tight_layout\": False,\n",
    "    \"xlabel_rotation\": 0,\n",
    "    \"hspace\": 0.3,\n",
    "    \"cmap\": palette,\n",
    "}\n",
    "\n",
    "cap_analysis_loops.caps2plot(visual_scope=\"regions\", plot_options=\"outer_product\", show_figs=True, **kwargs)"
   ]
  },
  {
   "cell_type": "code",
   "execution_count": null,
   "metadata": {},
   "outputs": [],
   "source": [
    "import seaborn as sns\n",
    "\n",
    "cap_analysis_nonloops = CAP(parcel_approach=nonloop_extractor.parcel_approach)\n",
    "\n",
    "cap_analysis_nonloops.get_caps(subject_timeseries=nonloop_timeseries, n_clusters=6)\n",
    "\n",
    "sns.diverging_palette(145, 300, s=60, as_cmap=True)\n",
    "\n",
    "palette = sns.diverging_palette(260, 10, s=80, l=55, n=256, as_cmap=True)\n",
    "\n",
    "kwargs = {\n",
    "    \"subplots\": True,\n",
    "    \"fontsize\": 14,\n",
    "    \"ncol\": 3,\n",
    "    \"sharey\": True,\n",
    "    \"tight_layout\": False,\n",
    "    \"xlabel_rotation\": 0,\n",
    "    \"hspace\": 0.3,\n",
    "    \"cmap\": palette,\n",
    "}\n",
    "\n",
    "cap_analysis_nonloops.caps2plot(visual_scope=\"regions\", plot_options=\"outer_product\", show_figs=True, **kwargs)"
   ]
  },
  {
   "cell_type": "code",
   "execution_count": null,
   "metadata": {},
   "outputs": [],
   "source": [
    "cap_analysis_loops.caps2plot(\n",
    "    visual_scope=\"nodes\", plot_options=\"heatmap\", xticklabels_size=7, yticklabels_size=7, show_figs=True\n",
    ")\n",
    "cap_analysis_nonloops.caps2plot(\n",
    "    visual_scope=\"nodes\", plot_options=\"heatmap\", xticklabels_size=7, yticklabels_size=7, show_figs=True\n",
    ")"
   ]
  },
  {
   "cell_type": "code",
   "execution_count": null,
   "metadata": {},
   "outputs": [],
   "source": [
    "cap_analysis_loops.caps2corr(annot=True, cmap=\"viridis\", show_figs=True)\n",
    "cap_analysis_nonloops.caps2corr(annot=True, cmap=\"viridis\", show_figs=True)"
   ]
  },
  {
   "cell_type": "code",
   "execution_count": null,
   "metadata": {},
   "outputs": [],
   "source": [
    "radialaxis = {\n",
    "    \"showline\": True,\n",
    "    \"linewidth\": 2,\n",
    "    \"linecolor\": \"rgba(0, 0, 0, 0.25)\",\n",
    "    \"gridcolor\": \"rgba(0, 0, 0, 0.25)\",\n",
    "    \"ticks\": \"outside\",\n",
    "    \"tickfont\": {\"size\": 14, \"color\": \"black\"},\n",
    "    \"range\": [0, 0.6],\n",
    "    \"tickvals\": [0.1, \"\", \"\", 0.4, \"\", \"\", 0.6],\n",
    "}\n",
    "\n",
    "legend = {\n",
    "    \"yanchor\": \"top\",\n",
    "    \"y\": 0.99,\n",
    "    \"x\": 0.99,\n",
    "    \"title_font_family\": \"Times New Roman\",\n",
    "    \"font\": {\"size\": 12, \"color\": \"black\"},\n",
    "}\n",
    "\n",
    "colors = {\"High Amplitude\": \"red\", \"Low Amplitude\": \"blue\"}\n",
    "\n",
    "radial={\"showline\": False, \"linewidth\": 2, \\\n",
    "        \"linecolor\": \"rgba(0, 0, 0, 0.25)\", \\\n",
    "        \"gridcolor\": \"rgba(0, 0, 0, 0.25)\", \\\n",
    "        \"ticks\": \"outside\", \"tickfont\": {\"size\": 14, \"color\": \"black\"}}\n",
    "\n",
    "kwargs = {\n",
    "    \"radialaxis\": radial,\n",
    "    \"fill\": \"toself\",\n",
    "    \"legend\": legend,\n",
    "    \"color_discrete_map\": colors,\n",
    "    \"height\": 400,\n",
    "    \"width\": 600,\n",
    "}\n",
    "\n",
    "cap_analysis_loops.caps2radar(**kwargs)\n",
    "cap_analysis_nonloops.caps2radar(**kwargs)"
   ]
  },
  {
   "cell_type": "code",
   "execution_count": null,
   "metadata": {},
   "outputs": [],
   "source": [
    "from matplotlib.colors import LinearSegmentedColormap\n",
    "\n",
    "# Create the colormap\n",
    "colors = [\n",
    "    \"#1bfffe\",\n",
    "    \"#00ccff\",\n",
    "    \"#0099ff\",\n",
    "    \"#0066ff\",\n",
    "    \"#0033ff\",\n",
    "    \"#c4c4c4\",\n",
    "    \"#ff6666\",\n",
    "    \"#ff3333\",\n",
    "    \"#FF0000\",\n",
    "    \"#ffcc00\",\n",
    "    \"#FFFF00\",\n",
    "]\n",
    "\n",
    "custom_cmap = LinearSegmentedColormap.from_list(\"custom_cold_hot\", colors, N=256)\n",
    "\n",
    "# Apply custom cmap to surface plots\n",
    "cap_analysis_loops.caps2surf(progress_bar=True, cmap=custom_cmap, size=(500, 100), layout=\"row\")"
   ]
  },
  {
   "cell_type": "code",
   "execution_count": null,
   "metadata": {},
   "outputs": [],
   "source": []
  }
 ],
 "metadata": {
  "kernelspec": {
   "display_name": "CapsEnvironment",
   "language": "python",
   "name": "python3"
  },
  "language_info": {
   "codemirror_mode": {
    "name": "ipython",
    "version": 3
   },
   "file_extension": ".py",
   "mimetype": "text/x-python",
   "name": "python",
   "nbconvert_exporter": "python",
   "pygments_lexer": "ipython3",
   "version": "3.9.0"
  }
 },
 "nbformat": 4,
 "nbformat_minor": 2
}
