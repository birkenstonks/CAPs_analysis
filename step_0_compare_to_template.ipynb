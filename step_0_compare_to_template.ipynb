{
 "cells": [
  {
   "cell_type": "code",
   "execution_count": 5,
   "metadata": {},
   "outputs": [],
   "source": [
    "import os\n",
    "import numpy as np\n",
    "import nibabel as nib\n",
    "import templateflow\n",
    "from templateflow import api"
   ]
  },
  {
   "cell_type": "code",
   "execution_count": 6,
   "metadata": {},
   "outputs": [
    {
     "name": "stderr",
     "output_type": "stream",
     "text": [
      "Downloading https://templateflow.s3.amazonaws.com/tpl-MNI152NLin6Asym/tpl-MNI152NLin6Asym_res-02_desc-brain_T1w.nii.gz\n",
      "100%|██████████| 429k/429k [00:00<00:00, 5.06MB/s]\n",
      "Downloading https://templateflow.s3.amazonaws.com/tpl-MNI152NLin6Asym/tpl-MNI152NLin6Asym_res-02_desc-LR_T1w.nii.gz\n",
      "100%|██████████| 708k/708k [00:00<00:00, 6.44MB/s]\n",
      "Downloading https://templateflow.s3.amazonaws.com/tpl-MNI152NLin6Asym/tpl-MNI152NLin6Asym_res-02_T1w.nii.gz\n",
      "100%|██████████| 1.41M/1.41M [00:00<00:00, 4.85MB/s]\n"
     ]
    },
    {
     "data": {
      "text/plain": [
       "[PosixPath('/home/zachkaras/.cache/templateflow/tpl-MNI152NLin6Asym/tpl-MNI152NLin6Asym_res-02_desc-brain_T1w.nii.gz'),\n",
       " PosixPath('/home/zachkaras/.cache/templateflow/tpl-MNI152NLin6Asym/tpl-MNI152NLin6Asym_res-02_desc-LR_T1w.nii.gz'),\n",
       " PosixPath('/home/zachkaras/.cache/templateflow/tpl-MNI152NLin6Asym/tpl-MNI152NLin6Asym_res-02_T1w.nii.gz')]"
      ]
     },
     "execution_count": 6,
     "metadata": {},
     "output_type": "execute_result"
    }
   ],
   "source": [
    "templateflow.api.get('MNI152NLin6Asym', raise_empty=False, resolution=2, suffix='T1w')"
   ]
  },
  {
   "cell_type": "code",
   "execution_count": null,
   "metadata": {},
   "outputs": [
    {
     "data": {
      "text/plain": [
       "array([[   2.,    0.,    0.,  -90.],\n",
       "       [   0.,    2.,    0., -126.],\n",
       "       [   0.,    0.,    2.,  -72.],\n",
       "       [   0.,    0.,    0.,    1.]])"
      ]
     },
     "execution_count": 8,
     "metadata": {},
     "output_type": "execute_result"
    }
   ],
   "source": [
    "test = nib.load('/home/zachkaras/.cache/templateflow/tpl-MNI152NLin6Asym/tpl-MNI152NLin6Asym_res-02_T1w.nii.gz')"
   ]
  },
  {
   "cell_type": "code",
   "execution_count": 3,
   "metadata": {},
   "outputs": [
    {
     "name": "stderr",
     "output_type": "stream",
     "text": [
      "Downloading https://templateflow.s3.amazonaws.com/tpl-MNI152NLin6Asym/tpl-MNI152NLin6Asym_res-01_atlas-Schaefer2018_desc-200Parcels7Networks_dseg.nii.gz\n",
      "100%|██████████| 416k/416k [00:00<00:00, 5.55MB/s]\n",
      "Downloading https://templateflow.s3.amazonaws.com/tpl-MNI152NLin6Asym/tpl-MNI152NLin6Asym_res-02_atlas-Schaefer2018_desc-200Parcels7Networks_dseg.nii.gz\n",
      "100%|██████████| 78.9k/78.9k [00:00<00:00, 1.94MB/s]\n"
     ]
    },
    {
     "ename": "FileNotFoundError",
     "evalue": "No such file or no access: '[PosixPath('/home/zachkaras/.cache/templateflow/tpl-MNI152NLin6Asym/tpl-MNI152NLin6Asym_atlas-Schaefer2018_desc-200Parcels7Networks_dseg.tsv'), PosixPath('/home/zachkaras/.cache/templateflow/tpl-MNI152NLin6Asym/tpl-MNI152NLin6Asym_res-01_atlas-Schaefer2018_desc-200Parcels7Networks_dseg.nii.gz'), PosixPath('/home/zachkaras/.cache/templateflow/tpl-MNI152NLin6Asym/tpl-MNI152NLin6Asym_res-02_atlas-Schaefer2018_desc-200Parcels7Networks_dseg.nii.gz')]'",
     "output_type": "error",
     "traceback": [
      "\u001b[0;31m---------------------------------------------------------------------------\u001b[0m",
      "\u001b[0;31mFileNotFoundError\u001b[0m                         Traceback (most recent call last)",
      "File \u001b[0;32m~/miniconda3/envs/CapsEnvironment/lib/python3.9/site-packages/nibabel/loadsave.py:101\u001b[0m, in \u001b[0;36mload\u001b[0;34m(filename, **kwargs)\u001b[0m\n\u001b[1;32m    100\u001b[0m \u001b[38;5;28;01mtry\u001b[39;00m:\n\u001b[0;32m--> 101\u001b[0m     stat_result \u001b[38;5;241m=\u001b[39m \u001b[43mos\u001b[49m\u001b[38;5;241;43m.\u001b[39;49m\u001b[43mstat\u001b[49m\u001b[43m(\u001b[49m\u001b[43mfilename\u001b[49m\u001b[43m)\u001b[49m\n\u001b[1;32m    102\u001b[0m \u001b[38;5;28;01mexcept\u001b[39;00m \u001b[38;5;167;01mOSError\u001b[39;00m:\n",
      "\u001b[0;31mFileNotFoundError\u001b[0m: [Errno 2] No such file or directory: \"[PosixPath('/home/zachkaras/.cache/templateflow/tpl-MNI152NLin6Asym/tpl-MNI152NLin6Asym_atlas-Schaefer2018_desc-200Parcels7Networks_dseg.tsv'), PosixPath('/home/zachkaras/.cache/templateflow/tpl-MNI152NLin6Asym/tpl-MNI152NLin6Asym_res-01_atlas-Schaefer2018_desc-200Parcels7Networks_dseg.nii.gz'), PosixPath('/home/zachkaras/.cache/templateflow/tpl-MNI152NLin6Asym/tpl-MNI152NLin6Asym_res-02_atlas-Schaefer2018_desc-200Parcels7Networks_dseg.nii.gz')]\"",
      "\nDuring handling of the above exception, another exception occurred:\n",
      "\u001b[0;31mFileNotFoundError\u001b[0m                         Traceback (most recent call last)",
      "Cell \u001b[0;32mIn[3], line 8\u001b[0m\n\u001b[1;32m      5\u001b[0m atlas_path \u001b[38;5;241m=\u001b[39m api\u001b[38;5;241m.\u001b[39mget(\u001b[38;5;124m'\u001b[39m\u001b[38;5;124mMNI152NLin6Asym\u001b[39m\u001b[38;5;124m'\u001b[39m, atlas\u001b[38;5;241m=\u001b[39m\u001b[38;5;124m'\u001b[39m\u001b[38;5;124mSchaefer2018\u001b[39m\u001b[38;5;124m'\u001b[39m, desc\u001b[38;5;241m=\u001b[39m\u001b[38;5;124m'\u001b[39m\u001b[38;5;124m200Parcels7Networks\u001b[39m\u001b[38;5;124m'\u001b[39m, suffix\u001b[38;5;241m=\u001b[39m\u001b[38;5;124m'\u001b[39m\u001b[38;5;124mdseg\u001b[39m\u001b[38;5;124m'\u001b[39m)\n\u001b[1;32m      7\u001b[0m \u001b[38;5;66;03m# Load the NIfTI file\u001b[39;00m\n\u001b[0;32m----> 8\u001b[0m atlas_img \u001b[38;5;241m=\u001b[39m \u001b[43mnib\u001b[49m\u001b[38;5;241;43m.\u001b[39;49m\u001b[43mload\u001b[49m\u001b[43m(\u001b[49m\u001b[38;5;28;43mstr\u001b[39;49m\u001b[43m(\u001b[49m\u001b[43matlas_path\u001b[49m\u001b[43m)\u001b[49m\u001b[43m)\u001b[49m\n\u001b[1;32m     10\u001b[0m \u001b[38;5;66;03m# Print image details\u001b[39;00m\n\u001b[1;32m     11\u001b[0m \u001b[38;5;28mprint\u001b[39m(atlas_img)\n",
      "File \u001b[0;32m~/miniconda3/envs/CapsEnvironment/lib/python3.9/site-packages/nibabel/loadsave.py:103\u001b[0m, in \u001b[0;36mload\u001b[0;34m(filename, **kwargs)\u001b[0m\n\u001b[1;32m    101\u001b[0m     stat_result \u001b[38;5;241m=\u001b[39m os\u001b[38;5;241m.\u001b[39mstat(filename)\n\u001b[1;32m    102\u001b[0m \u001b[38;5;28;01mexcept\u001b[39;00m \u001b[38;5;167;01mOSError\u001b[39;00m:\n\u001b[0;32m--> 103\u001b[0m     \u001b[38;5;28;01mraise\u001b[39;00m \u001b[38;5;167;01mFileNotFoundError\u001b[39;00m(\u001b[38;5;124mf\u001b[39m\u001b[38;5;124m\"\u001b[39m\u001b[38;5;124mNo such file or no access: \u001b[39m\u001b[38;5;124m'\u001b[39m\u001b[38;5;132;01m{\u001b[39;00mfilename\u001b[38;5;132;01m}\u001b[39;00m\u001b[38;5;124m'\u001b[39m\u001b[38;5;124m\"\u001b[39m)\n\u001b[1;32m    104\u001b[0m \u001b[38;5;28;01mif\u001b[39;00m stat_result\u001b[38;5;241m.\u001b[39mst_size \u001b[38;5;241m<\u001b[39m\u001b[38;5;241m=\u001b[39m \u001b[38;5;241m0\u001b[39m:\n\u001b[1;32m    105\u001b[0m     \u001b[38;5;28;01mraise\u001b[39;00m ImageFileError(\u001b[38;5;124mf\u001b[39m\u001b[38;5;124m\"\u001b[39m\u001b[38;5;124mEmpty file: \u001b[39m\u001b[38;5;124m'\u001b[39m\u001b[38;5;132;01m{\u001b[39;00mfilename\u001b[38;5;132;01m}\u001b[39;00m\u001b[38;5;124m'\u001b[39m\u001b[38;5;124m\"\u001b[39m)\n",
      "\u001b[0;31mFileNotFoundError\u001b[0m: No such file or no access: '[PosixPath('/home/zachkaras/.cache/templateflow/tpl-MNI152NLin6Asym/tpl-MNI152NLin6Asym_atlas-Schaefer2018_desc-200Parcels7Networks_dseg.tsv'), PosixPath('/home/zachkaras/.cache/templateflow/tpl-MNI152NLin6Asym/tpl-MNI152NLin6Asym_res-01_atlas-Schaefer2018_desc-200Parcels7Networks_dseg.nii.gz'), PosixPath('/home/zachkaras/.cache/templateflow/tpl-MNI152NLin6Asym/tpl-MNI152NLin6Asym_res-02_atlas-Schaefer2018_desc-200Parcels7Networks_dseg.nii.gz')]'"
     ]
    }
   ],
   "source": [
    "import nibabel as nib\n",
    "from templateflow import api\n",
    "\n",
    "# Get the full file path\n",
    "atlas_path = api.get('MNI152NLin6Asym', atlas='Schaefer2018', desc='200Parcels7Networks', suffix='dseg')\n",
    "\n",
    "# Load the NIfTI file\n",
    "atlas_img = nib.load(str(atlas_path))\n",
    "\n",
    "# Print image details\n",
    "print(atlas_img)\n",
    "print(\"Shape:\", atlas_img.shape)\n",
    "print(\"Affine matrix:\\n\", atlas_img.affine)\n"
   ]
  },
  {
   "cell_type": "code",
   "execution_count": null,
   "metadata": {},
   "outputs": [],
   "source": [
    "# compare one participant's nifti file's affine matrix to all the templates' affine matrices\n",
    "all_atlaspaths = \"/home/zachkaras/.cache/templateflow\"\n",
    "atlas_folders = os.listdir(all_atlaspaths)\n",
    "atlas_folders = [a for a in atlas_folders if 'MNI' in a]\n",
    "\n",
    "for atlas in atlas_folders:\n",
    "    atlaspath = f\"{all_atlaspaths}/{atlas}\"\n",
    "    nifti_files = os.listdir(atlaspath)\n",
    "    for brain in nifti_files:\n",
    "        test = nib.load(f\"{atlaspath}/{brain}\")\n",
    "    break\n",
    "    # newpath = f\"/home/zachkaras/fmri_recursion/test_analysis/atlases/{atlas}\"\n",
    "    \n",
    "    # os.system(f\"cp {path} {newpath}\")\n",
    "    # img = nib.load(path, keep_file_open=True)\n",
    "    # print(img.affine)\n",
    "\n",
    "# for atlas in atlases:\n",
    "\n",
    "\n",
    "\n",
    "\n",
    "# nii_path = \"path/to/your/file.nii.gz\"  # Replace with actual path\n",
    "# img = nib.load(nii_path)\n",
    "\n",
    "# # Print affine transformation matrix\n",
    "# print(\"Affine matrix:\")\n",
    "# print(img.affine)"
   ]
  }
 ],
 "metadata": {
  "kernelspec": {
   "display_name": "CapsEnvironment",
   "language": "python",
   "name": "python3"
  },
  "language_info": {
   "codemirror_mode": {
    "name": "ipython",
    "version": 3
   },
   "file_extension": ".py",
   "mimetype": "text/x-python",
   "name": "python",
   "nbconvert_exporter": "python",
   "pygments_lexer": "ipython3",
   "version": "3.9.0"
  }
 },
 "nbformat": 4,
 "nbformat_minor": 2
}
